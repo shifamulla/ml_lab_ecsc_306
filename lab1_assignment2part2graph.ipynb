import tensorflow as tf
import matplotlib.pyplot as plt

x=tf.constant([1.1,2.2,3.3,4.4,5.5])
y=tf.constant([2.2,3.3,3,4,4.4])
xmean=tf.reduce_mean(x)
ymean=tf.reduce_mean(y)
ss=tf.Session()
print (ss.run(xmean))
print (ss.run(ymean))

x2=tf.subtract(x,xmean)
y2=tf.subtract(y,ymean)
sqr1=tf.multiply(x2, x2)
sqr2=tf.multiply(y2, y2)
var1=tf.reduce_sum(sqr1)
var2=tf.reduce_sum(sqr2)
print (ss.run(var1))
print (ss.run(var2))

tmp1=tf.multiply(x2,y2)
cov=tf.reduce_sum(tmp1)
print (ss.run(cov))

m=tf.div(cov,var1)
print (ss.run(m))

tmp2=tf.multiply(m,xmean)
c=tf.subtract(ymean,tmp2)
print (ss.run(c))

plt.plot(x,y,"ro")
plt.show()

plt.plot(x,y)
plt.show()
