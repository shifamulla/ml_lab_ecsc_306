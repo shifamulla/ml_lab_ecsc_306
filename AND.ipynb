{
 "cells": [
  {
   "cell_type": "code",
   "execution_count": 1,
   "metadata": {
    "collapsed": false,
    "deletable": true,
    "editable": true
   },
   "outputs": [
    {
     "name": "stdout",
     "output_type": "stream",
     "text": [
      "iteration=  0 cost=  1.02773\n",
      "iteration=  1000 cost=  0.463505\n",
      "iteration=  2000 cost=  0.362137\n",
      "iteration=  3000 cost=  0.300792\n",
      "iteration=  4000 cost=  0.258683\n",
      "iteration=  5000 cost=  0.227577\n",
      "iteration=  6000 cost=  0.203435\n",
      "iteration=  7000 cost=  0.184036\n",
      "iteration=  8000 cost=  0.168047\n",
      "iteration=  9000 cost=  0.154611\n",
      "iteration=  10000 cost=  0.143145\n",
      "iteration=  11000 cost=  0.133237\n",
      "iteration=  12000 cost=  0.124584\n",
      "Validating output for AND GATE\n",
      "[[ 0.00538352]\n",
      " [ 0.13217537]\n",
      " [ 0.13287807]\n",
      " [ 0.81174779]]\n"
     ]
    }
   ],
   "source": [
    "import tensorflow as tf\n",
    "import numpy as np\n",
    "x=tf.placeholder(tf.float32,shape=[None,2])\n",
    "y=tf.placeholder(tf.float32,shape=[None,1])\n",
    "\n",
    "weights=tf.Variable(tf.random_normal([2,1]),dtype=tf.float32)\n",
    "bias=tf.Variable(tf.random_normal([1]),dtype=tf.float32)\n",
    "\n",
    "\n",
    "\n",
    "multiply1=tf.add(tf.matmul(x,weights),bias)\n",
    "z=tf.nn.sigmoid(multiply1)\n",
    "\n",
    "\n",
    "cost=tf.reduce_mean((y*tf.log(z)+(1-y)*tf.log(1-z))*-1)\n",
    "optimizer = tf.train.GradientDescentOptimizer(0.01).minimize(cost)\n",
    "\n",
    "inp=np.array([[0,0],[0,1],[1,0],[1,1]])\n",
    "op=np.array([[0],[0],[0],[1]])\n",
    "with tf.Session() as sess:\n",
    "   \n",
    "    tf.global_variables_initializer().run()\n",
    "    for i in range(12001):\n",
    "        res,_=sess.run([cost,optimizer],feed_dict={x:inp,y:op})\n",
    "        if i%1000==0:\n",
    "            print (\"iteration= \",i,\"cost= \",res)\n",
    "    print (\"Validating output for AND GATE\")\n",
    "    result=sess.run(z,feed_dict={x:inp})\n",
    "    print (result)\n",
    "    "
   ]
  }
 ],
 "metadata": {
  "anaconda-cloud": {},
  "kernelspec": {
   "display_name": "Python [conda root]",
   "language": "python",
   "name": "conda-root-py"
  },
  "language_info": {
   "codemirror_mode": {
    "name": "ipython",
    "version": 3
   },
   "file_extension": ".py",
   "mimetype": "text/x-python",
   "name": "python",
   "nbconvert_exporter": "python",
   "pygments_lexer": "ipython3",
   "version": "3.5.2"
  }
 },
 "nbformat": 4,
 "nbformat_minor": 2
}

