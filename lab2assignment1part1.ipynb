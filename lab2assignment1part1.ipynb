{
 "cells": [
  {
   "cell_type": "code",
   "execution_count": 43,
   "metadata": {
    "collapsed": true
   },
   "outputs": [],
   "source": [
    "import tensorflow as tf\n",
    "import numpy as np\n",
    "rng = np.random\n",
    "\n",
    "import matplotlib.pyplot as plt\n",
    "learning_rate = 0.0001\n",
    "training_epochs = 1000\n",
    "display_step = 50\n"
   ]
  },
  {
   "cell_type": "code",
   "execution_count": 44,
   "metadata": {},
   "outputs": [
    {
     "name": "stdout",
     "output_type": "stream",
     "text": [
      "-0.2369\n"
     ]
    }
   ],
   "source": [
    "with tf.name_scope(\"Creation_of_array\"):\n",
    "    trX=np.asarray([1.11,0.67,-2.24,-3.31,5.45,4.0,4.8,3.32,0.78,-2.33])\n",
    "    trY=np.asarray([-0.07,2.75,4.51,3.07,-6.46,1.22,0.34,-9.98,0.001,2.25])\n",
    "    x = tf.constant(trX,dtype = tf.float32,name = \"x_array\")\n",
    "    y = tf.constant(trY,dtype = tf.float32, name= \"y_array\")\n",
    "with tf.name_scope(\"Calculating_y_mean\"):\n",
    "    mean_y = tf.reduce_mean(y, name = \"mean_y\")\n",
    "    with tf.Session() as sess:\n",
    "        result_y = sess.run(mean_y)\n",
    "        print(result_y)"
   ]
  },
  {
   "cell_type": "code",
   "execution_count": 45,
   "metadata": {},
   "outputs": [
    {
     "name": "stdout",
     "output_type": "stream",
     "text": [
      "1.225\n",
      "8.84507\n"
     ]
    }
   ],
   "source": [
    "with tf.name_scope(\"Calculating_x_mean_and_x_variance\"):\n",
    "    mean_x, variance = tf.nn.moments(x, [0], name = \"mean_x_and_variance_x\")\n",
    "    with tf.Session() as sess:\n",
    "        m, v = sess.run([mean_x, variance])\n",
    "        print(m)\n",
    "        print(v)\n"
   ]
  },
  {
   "cell_type": "code",
   "execution_count": 46,
   "metadata": {},
   "outputs": [
    {
     "name": "stdout",
     "output_type": "stream",
     "text": [
      "-8.26676\n"
     ]
    }
   ],
   "source": [
    "with tf.name_scope(\"Calculating_covariance\"):\n",
    "    def tensorflow_covariance(trX,trY,x_mean,y_mean):\n",
    "        cov = 0.0\n",
    "        for i in range(0,10):\n",
    "            x_val = tf.subtract(trX[i],x_mean, name=\"Finding_difference_of_xval_and_mean\")\n",
    "            y_val = tf.subtract(trY[i],y_mean, name=\"Finding_difference_of_yval_and_mean\")\n",
    "            total_val = tf.multiply(x_val,y_val, name=\"Multiplying_found_values\")\n",
    "            cov = tf.add(cov,total_val, name=\"Recursive_addition\")\n",
    "        return cov/10.0\n",
    "    with tf.Session() as sess:\n",
    "        covar = sess.run(tensorflow_covariance(x,y,m,result_y))\n",
    "        print(covar)"
   ]
  },
  {
   "cell_type": "code",
   "execution_count": 47,
   "metadata": {},
   "outputs": [
    {
     "name": "stdout",
     "output_type": "stream",
     "text": [
      "-0.934618\n",
      "0.908008\n"
     ]
    }
   ],
   "source": [
    "with tf.name_scope(\"Calculating_slope_m_and_c\"):\n",
    "    slope = tf.div(covar,v,name=\"Finding_slope\")\n",
    "    intm = tf.multiply(slope,m,name = \"Intermediate_step\")\n",
    "    c_intm = tf.subtract(result_y,intm,name = \"Finding_c\")\n",
    "\n",
    "    with tf.Session() as sess:\n",
    "        m_slope = sess.run(slope)\n",
    "        c = sess.run(c_intm)\n",
    "        print(m_slope)\n",
    "        print(c)"
   ]
  },
  {
   "cell_type": "code",
   "execution_count": null,
   "metadata": {
    "collapsed": true
   },
   "outputs": [],
   "source": []
  },
  {
   "cell_type": "code",
   "execution_count": 49,
   "metadata": {},
   "outputs": [
    {
     "name": "stdout",
     "output_type": "stream",
     "text": [
      "('Epoch:', '0050', 'cost=', '11.697553635', 'M=', -0.6362133, 'C=', 0.20265795)\n",
      "('Epoch:', '0100', 'cost=', '11.307593346', 'M=', -0.6362133, 'C=', 0.20265795)\n",
      "('Epoch:', '0150', 'cost=', '10.954498291', 'M=', -0.6362133, 'C=', 0.20265795)\n",
      "('Epoch:', '0200', 'cost=', '10.634613991', 'M=', -0.6362133, 'C=', 0.20265795)\n",
      "('Epoch:', '0250', 'cost=', '10.344644547', 'M=', -0.6362133, 'C=', 0.20265795)\n",
      "('Epoch:', '0300', 'cost=', '10.081624031', 'M=', -0.6362133, 'C=', 0.20265795)\n",
      "('Epoch:', '0350', 'cost=', '9.842879295', 'M=', -0.6362133, 'C=', 0.20265795)\n",
      "('Epoch:', '0400', 'cost=', '9.626007080', 'M=', -0.6362133, 'C=', 0.20265795)\n",
      "('Epoch:', '0450', 'cost=', '9.428844452', 'M=', -0.6362133, 'C=', 0.20265795)\n",
      "('Epoch:', '0500', 'cost=', '9.249438286', 'M=', -0.6362133, 'C=', 0.20265795)\n",
      "('Epoch:', '0550', 'cost=', '9.086039543', 'M=', -0.6362133, 'C=', 0.20265795)\n",
      "('Epoch:', '0600', 'cost=', '8.937064171', 'M=', -0.6362133, 'C=', 0.20265795)\n",
      "('Epoch:', '0650', 'cost=', '8.801090240', 'M=', -0.6362133, 'C=', 0.20265795)\n",
      "('Epoch:', '0700', 'cost=', '8.676836014', 'M=', -0.6362133, 'C=', 0.20265795)\n",
      "('Epoch:', '0750', 'cost=', '8.563150406', 'M=', -0.6362133, 'C=', 0.20265795)\n",
      "('Epoch:', '0800', 'cost=', '8.458991051', 'M=', -0.6362133, 'C=', 0.20265795)\n",
      "('Epoch:', '0850', 'cost=', '8.363429070', 'M=', -0.6362133, 'C=', 0.20265795)\n",
      "('Epoch:', '0900', 'cost=', '8.275617599', 'M=', -0.6362133, 'C=', 0.20265795)\n",
      "('Epoch:', '0950', 'cost=', '8.194799423', 'M=', -0.6362133, 'C=', 0.20265795)\n",
      "('Epoch:', '1000', 'cost=', '8.120292664', 'M=', -0.6362133, 'C=', 0.20265795)\n",
      "Optimization Finished!\n",
      "('Training cost=', 8.1202927, 'M=', -0.33306208, 'C=', -1.3418826, '\\n')\n"
     ]
    },
    {
     "data": {
      "image/png": "[encoded data removed]",
      "text/plain": [
       "<matplotlib.figure.Figure at 0x7f57d1d6a650>"
      ]
     },
     "metadata": {},
     "output_type": "display_data"
    }
   ],
   "source": [
    "with tf.name_scope(\"Plotting\"):\n",
    "    n_samples = trX.shape[0]\n",
    "    X = tf.placeholder(\"float\")\n",
    "    Y = tf.placeholder(\"float\")\n",
    "\n",
    "    # Set model weights\n",
    "    M = tf.Variable(rng.randn(), name=\"weight\")\n",
    "    C = tf.Variable(rng.randn(), name=\"bias\")\n",
    "\n",
    "    # Construct a linear model\n",
    "    pred = tf.add(tf.multiply(X, M), C)\n",
    "\n",
    "\n",
    "    # Mean squared error\n",
    "    cost = tf.reduce_sum(tf.pow(pred-Y, 2))/(2*n_samples)\n",
    "    # Gradient descent\n",
    "    optimizer = tf.train.GradientDescentOptimizer(learning_rate).minimize(cost)\n",
    "\n",
    "    # Initializing the variables\n",
    "    init = tf.global_variables_initializer()\n",
    "\n",
    "    # Launch the graph\n",
    "    with tf.Session() as sess:\n",
    "        sess.run(init)\n",
    "\n",
    "        # Fit all training data\n",
    "        for epoch in range(training_epochs):\n",
    "            for (p, r) in zip(trX, trY):\n",
    "                sess.run(optimizer, feed_dict={X: p, Y: r})\n",
    "\n",
    "            # Display logs per epoch step\n",
    "            if (epoch+1) % display_step == 0:\n",
    "                c = sess.run(cost, feed_dict={X: trX, Y:trY})\n",
    "                print(\"Epoch:\", '%04d' % (epoch+1), \"cost=\", \"{:.9f}\".format(c), \\\n",
    "                    \"M=\", sess.run(W), \"C=\", sess.run(b))\n",
    "\n",
    "        print(\"Optimization Finished!\")\n",
    "        training_cost = sess.run(cost, feed_dict={X: trX, Y: trY})\n",
    "        print(\"Training cost=\", training_cost, \"M=\", sess.run(M), \"C=\", sess.run(C), '\\n')\n",
    "\n",
    "        # Graphic display\n",
    "        plt.plot(trX, trY, 'ro', label='Original data')\n",
    "        plt.plot(trX, sess.run(M) * trX + sess.run(C), label='Fitted line')\n",
    "        plt.legend()\n",
    "        plt.show()"
   ]
  },
  {
   "cell_type": "code",
   "execution_count": null,
   "metadata": {
    "collapsed": true
   },
   "outputs": [],
   "source": []
  },
  {
   "cell_type": "code",
   "execution_count": 50,
   "metadata": {},
   "outputs": [
    {
     "name": "stdout",
     "output_type": "stream",
     "text": [
      "6.78179210091\n"
     ]
    }
   ],
   "source": [
    "with tf.name_scope(\"Finding_root_mean_square_error\"):\n",
    "    rms = tf.sqrt(tf.reduce_mean(tf.squared_difference(trX, trY,name = \"Finding_squared_difference\"),name=\"Finding_mean\"),name = \"Finding_square_root\")\n",
    "    with tf.Session() as sess:\n",
    "        rmse=sess.run(rms)\n",
    "        print(rmse)"
   ]
  },
  {
   "cell_type": "markdown",
   "metadata": {},
   "source": [
    "$$\\theta_1(t+1) = \\theta_1(t) - learning\\_rate * cost(t) * x(t)$$"
   ]
  },
  {
   "cell_type": "code",
   "execution_count": 51,
   "metadata": {},
   "outputs": [
    {
     "name": "stdout",
     "output_type": "stream",
     "text": [
      "-0.934618\n"
     ]
    }
   ],
   "source": [
    "with tf.name_scope(\"Finding_theta_1\"): \n",
    "    y_var = tf.subtract(y,result_y,name = \"Subtract_array_y_with_y_mean\")\n",
    "    x_var = tf.subtract(x,m,name = \"Subtract_array_x_with_x_mean\")\n",
    "    mult = tf.multiply(x_var,y_var,name = \"Multiply_calculated_arrays\")\n",
    "    sumn = tf.reduce_sum(mult,name = \"Find_sum_of_x_i_minus_mean_x_and_y_i_minus_mean_y\")\n",
    "    x_var2 = tf.multiply(x_var,x_var,name = \"Squaring_found_arrray_values\")\n",
    "    sumd = tf.reduce_sum(x_var2,name = \"Find_sum_of_array_of_x_i_minus_mean_x\")\n",
    "    val = sumn/sumd\n",
    "\n",
    "    with tf.Session() as sess:\n",
    "        res = sess.run(val)\n",
    "        print(res)"
   ]
  },
  {
   "cell_type": "code",
   "execution_count": 52,
   "metadata": {},
   "outputs": [
    {
     "name": "stdout",
     "output_type": "stream",
     "text": [
      "0.908007\n"
     ]
    }
   ],
   "source": [
    "with tf.name_scope(\"Finding_theta_0\"):    \n",
    "    temp = tf.multiply(res,m,name = \"Multiply_res_with_slope\")\n",
    "    theta = tf.subtract(result_y,temp,name=\"Sub_obtained_res_with_mean_y\")\n",
    "    with tf.Session() as sess:\n",
    "        theta0 = sess.run(theta)\n",
    "        print(theta0)"
   ]
  },
  {
   "cell_type": "code",
   "execution_count": null,
   "metadata": {
    "collapsed": true
   },
   "outputs": [],
   "source": []
  },
  {
   "cell_type": "code",
   "execution_count": null,
   "metadata": {
    "collapsed": true
   },
   "outputs": [],
   "source": []
  }
 ],
 "metadata": {
  "kernelspec": {
   "display_name": "Python 2",
   "language": "python",
   "name": "python2"
  },
  "language_info": {
   "codemirror_mode": {
    "name": "ipython",
    "version": 2
   },
   "file_extension": ".py",
   "mimetype": "text/x-python",
   "name": "python",
   "nbconvert_exporter": "python",
   "pygments_lexer": "ipython2",
   "version": "2.7.13"
  }
 },
 "nbformat": 4,
 "nbformat_minor": 2
}
