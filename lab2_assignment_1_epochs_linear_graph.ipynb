{
 "cells": [
  {
   "cell_type": "code",
   "execution_count": 1,
   "metadata": {
    "collapsed": true
   },
   "outputs": [],
   "source": [
    "import tensorflow as tf\n",
    "import numpy as np\n",
    "import matplotlib.pyplot as plt\n",
    "\n",
    "l_r = 0.01\n",
    "epochs = 1000\n",
    "step = 50\n",
    "\n",
    "l_r=tf.cast(l_r,'float64')\n",
    "\n",
    "trX = np.asarray([1.0,2.0,4.0,3.0,5.0])\n",
    "trY = np.asarray([1.0,3.0,3.0,2.0,5.0])\n",
    "\n",
    "#nu= tf.size(trX)\n",
    "nu = trX.shape[0]\n",
    "nu=tf.cast(nu,'float64')\n",
    "\n",
    "# tf Graph Input\n",
    "X = tf.placeholder(\"float64\") \n",
    "Y = tf.placeholder(\"float64\")\n",
    "\n",
    "# Set model weights\n",
    "m = tf.Variable(0.0, name=\"weight\")\n",
    "c = tf.Variable(0.0, name=\"bias\")\n"
   ]
  },
  {
   "cell_type": "code",
   "execution_count": 2,
   "metadata": {
    "collapsed": true
   },
   "outputs": [],
   "source": [
    "mean_x = tf.reduce_mean(trX)\n",
    "mean_y = tf.reduce_mean(trY)"
   ]
  },
  {
   "cell_type": "code",
   "execution_count": 3,
   "metadata": {
    "collapsed": true
   },
   "outputs": [],
   "source": [
    "var = tf.divide(tf.reduce_sum(tf.square(tf.subtract(trX,mean_x))),nu)\n",
    "covar = tf.divide(tf.reduce_sum(tf.multiply(tf.subtract(trX,mean_x),tf.subtract(trY,mean_y))),nu)"
   ]
  },
  {
   "cell_type": "code",
   "execution_count": 4,
   "metadata": {},
   "outputs": [
    {
     "data": {
      "text/plain": [
       "0.39999999999999947"
      ]
     },
     "execution_count": 4,
     "metadata": {},
     "output_type": "execute_result"
    }
   ],
   "source": [
    "m=tf.divide(covar,var)\n",
    "c=tf.subtract(mean_y,tf.multiply(m,mean_x))\n",
    "\n",
    "m=tf.cast(m,'float64')\n",
    "c=tf.cast(c,'float64')\n",
    "\n",
    "ss = tf.Session()\n",
    "ss.run(c)"
   ]
  },
  {
   "cell_type": "code",
   "execution_count": 11,
   "metadata": {},
   "outputs": [
    {
     "name": "stdout",
     "output_type": "stream",
     "text": [
      "('Epoch:', '0050', 'cost=', '0.240000000', 'M=', 0.80000000000000004, 'C=', 0.39999999999999947)\n",
      "('Epoch:', '0100', 'cost=', '0.240000000', 'M=', 0.80000000000000004, 'C=', 0.39999999999999947)\n",
      "('Epoch:', '0150', 'cost=', '0.240000000', 'M=', 0.80000000000000004, 'C=', 0.39999999999999947)\n",
      "('Epoch:', '0200', 'cost=', '0.240000000', 'M=', 0.80000000000000004, 'C=', 0.39999999999999947)\n",
      "('Epoch:', '0250', 'cost=', '0.240000000', 'M=', 0.80000000000000004, 'C=', 0.39999999999999947)\n",
      "('Epoch:', '0300', 'cost=', '0.240000000', 'M=', 0.80000000000000004, 'C=', 0.39999999999999947)\n",
      "('Epoch:', '0350', 'cost=', '0.240000000', 'M=', 0.80000000000000004, 'C=', 0.39999999999999947)\n",
      "('Epoch:', '0400', 'cost=', '0.240000000', 'M=', 0.80000000000000004, 'C=', 0.39999999999999947)\n",
      "('Epoch:', '0450', 'cost=', '0.240000000', 'M=', 0.80000000000000004, 'C=', 0.39999999999999947)\n",
      "('Epoch:', '0500', 'cost=', '0.240000000', 'M=', 0.80000000000000004, 'C=', 0.39999999999999947)\n",
      "('Epoch:', '0550', 'cost=', '0.240000000', 'M=', 0.80000000000000004, 'C=', 0.39999999999999947)\n",
      "('Epoch:', '0600', 'cost=', '0.240000000', 'M=', 0.80000000000000004, 'C=', 0.39999999999999947)\n",
      "('Epoch:', '0650', 'cost=', '0.240000000', 'M=', 0.80000000000000004, 'C=', 0.39999999999999947)\n",
      "('Epoch:', '0700', 'cost=', '0.240000000', 'M=', 0.80000000000000004, 'C=', 0.39999999999999947)\n",
      "('Epoch:', '0750', 'cost=', '0.240000000', 'M=', 0.80000000000000004, 'C=', 0.39999999999999947)\n",
      "('Epoch:', '0800', 'cost=', '0.240000000', 'M=', 0.80000000000000004, 'C=', 0.39999999999999947)\n",
      "('Epoch:', '0850', 'cost=', '0.240000000', 'M=', 0.80000000000000004, 'C=', 0.39999999999999947)\n",
      "('Epoch:', '0900', 'cost=', '0.240000000', 'M=', 0.80000000000000004, 'C=', 0.39999999999999947)\n",
      "('Epoch:', '0950', 'cost=', '0.240000000', 'M=', 0.80000000000000004, 'C=', 0.39999999999999947)\n",
      "('Epoch:', '1000', 'cost=', '0.240000000', 'M=', 0.80000000000000004, 'C=', 0.39999999999999947)\n",
      "Optimization Finished!\n",
      "('Training cost=', 0.24000000000000007, 'm=', 0.80000000000000004, 'c=', 0.39999999999999947, '\\n')\n"
     ]
    },
    {
     "data": {
      "image/png": "[encoded data removed]",
      "text/plain": [
       "<matplotlib.figure.Figure at 0x7f7f6a49b690>"
      ]
     },
     "metadata": {},
     "output_type": "display_data"
    }
   ],
   "source": [
    "cal_Y = tf.add(tf.multiply(m,X),c)\n",
    "cost = tf.reduce_sum(tf.pow(cal_Y-Y, 2))/(2*nu)\n",
    "\n",
    "init = tf.global_variables_initializer()\n",
    "\n",
    "\n",
    "def GDO(m,c,l_r,cost):\n",
    "\n",
    "    t1 = tf.subtract(m,tf.multiply(tf.multiply(l_r,cost),X))\n",
    "    t2 = tf.subtract(c,tf.multiply(l_r,cost))\n",
    "    m=t1\n",
    "    c=t2        \n",
    "    return m,c\n",
    "\n",
    "opti = GDO(m,c,l_r,cost)\n",
    "\n",
    "with tf.Session() as sess:\n",
    "    sess.run(init)\n",
    "    for epoch in range(epochs):    \n",
    "        for (x, y) in zip(trX, trY):\n",
    "            sess.run(opti, feed_dict={X: x, Y: y})\n",
    "          \n",
    "        \n",
    "        if (epoch+1) % step == 0:\n",
    "            CC = sess.run(cost, feed_dict={X: trX, Y:trY})\n",
    "            print (\"Epoch:\", '%04d' % (epoch+1), \"cost=\", \"{:.9f}\".format(CC),\"M=\", sess.run(m), \"C=\", sess.run(c))\n",
    "    \n",
    "    print (\"Optimization Finished!\")\n",
    "    training_cost = sess.run(cost, feed_dict={X: trX, Y: trY})\n",
    "    print(\"Training cost=\", training_cost, \"m=\", sess.run(m), \"c=\", sess.run(c), '\\n')\n",
    "\n",
    "    #Graphic display\n",
    "    plt.plot(trX, trY, 'ro', label='Original data')\n",
    "    plt.plot(trX, sess.run(m) * trX + sess.run(c), label='Fitted line')\n",
    "    plt.legend()\n",
    "    plt.show()\n",
    "    "
   ]
  },
  {
   "cell_type": "code",
   "execution_count": null,
   "metadata": {
    "collapsed": true
   },
   "outputs": [],
   "source": []
  }
 ],
 "metadata": {
  "kernelspec": {
   "display_name": "Python 2",
   "language": "python",
   "name": "python2"
  },
  "language_info": {
   "codemirror_mode": {
    "name": "ipython",
    "version": 2
   },
   "file_extension": ".py",
   "mimetype": "text/x-python",
   "name": "python",
   "nbconvert_exporter": "python",
   "pygments_lexer": "ipython2",
   "version": "2.7.13"
  }
 },
 "nbformat": 4,
 "nbformat_minor": 2
}
