{
 "cells": [
  {
   "cell_type": "code",
   "execution_count": 2,
   "metadata": {},
   "outputs": [
    {
     "name": "stdout",
     "output_type": "stream",
     "text": [
      "('h0 values:', 0.5)\n",
      "after rounding off, h0 value:\n",
      "1.0\n",
      "('cost function:', nan)\n",
      "After 500 epoch values:\n",
      "('theta 1 : ', 0.27168453)\n",
      "('theta 0 : ', 0.99801433)\n"
     ]
    }
   ],
   "source": [
    "import tensorflow as tf\n",
    "\n",
    "\n",
    "a = tf.constant([16.0,15.0,12.0,17.0,11.0,10.0,9.0],name ='x')\n",
    "b = tf.constant([1.0,7.0,4.0,5.0,2.0,9.0,6.0],name='y')\n",
    "training_epoch = 500\n",
    "learning_rate = 0.005\n",
    "\n",
    "t1=0.0\n",
    "t0=0.0\n",
    "\n",
    "#finding the value of h0\n",
    "h0=tf.divide(1.0,tf.add(1.0,tf.exp(-tf.add(t0,tf.reduce_sum(tf.multiply(t1,a))))))\n",
    "   \n",
    "model=tf.global_variables_initializer()\n",
    "sess = tf.Session()\n",
    "print(\"h0 values:\",sess.run(h0))\n",
    "result=tf.cond(h0<0.5,lambda:0.00,lambda:1.00)\n",
    "print(\"after rounding off, h0 value:\")\n",
    "print(sess.run(result))\n",
    "\n",
    "#cost function\n",
    "c1 = tf.multiply(tf.subtract(1.0,b),tf.log(tf.subtract(1.0,result)))\n",
    "c2 = tf.multiply(-b,tf.log(result))\n",
    "cost = tf.reduce_sum(tf.subtract(c2,c1))\n",
    "print(\"cost function:\",sess.run(cost))\n",
    "\n",
    "#finding the value of theta 1 and theta 0\n",
    "\n",
    "for epoch in range(training_epoch):\n",
    "    \n",
    "    #if error is greater than threshold value then stop the iteration\n",
    "    s1=tf.reduce_sum(tf.multiply(tf.subtract(tf.add(tf.multiply(a,t1),t0),b),a))\n",
    "    s0=tf.reduce_sum(tf.subtract(tf.add(tf.multiply(a,t1),t0),b))\n",
    "    tn1 = tf.subtract(t1,tf.multiply(learning_rate,tf.divide(s1,tf.cast(tf.size(a),tf.float32))))\n",
    "    tn0=  tf.subtract(t0,tf.multiply(learning_rate,tf.divide(s0,tf.cast(tf.size(a),tf.float32))))\n",
    "    t1=tn1\n",
    "    t0=tn0\n",
    "    model=tf.global_variables_initializer()\n",
    "sess = tf.Session()\n",
    "print(\"After 500 epoch values:\")\n",
    "print(\"theta 1 : \",sess.run(tn1))\n",
    "print(\"theta 0 : \",sess.run(tn0))"
   ]
  },
  {
   "cell_type": "code",
   "execution_count": null,
   "metadata": {
    "collapsed": true
   },
   "outputs": [],
   "source": []
  }
 ],
 "metadata": {
  "kernelspec": {
   "display_name": "Python 2",
   "language": "python",
   "name": "python2"
  },
  "language_info": {
   "codemirror_mode": {
    "name": "ipython",
    "version": 2
   },
   "file_extension": ".py",
   "mimetype": "text/x-python",
   "name": "python",
   "nbconvert_exporter": "python",
   "pygments_lexer": "ipython2",
   "version": "2.7.13"
  }
 },
 "nbformat": 4,
 "nbformat_minor": 2
}
